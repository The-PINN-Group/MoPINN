{
 "cells": [
  {
   "cell_type": "code",
   "execution_count": 1,
   "metadata": {},
   "outputs": [],
   "source": [
    "from pinntorch import *\n",
    "from functools import partial\n",
    "from matplotlib.animation import FuncAnimation"
   ]
  },
  {
   "cell_type": "code",
   "execution_count": 2,
   "metadata": {},
   "outputs": [],
   "source": [
    "K = 5.0"
   ]
  },
  {
   "cell_type": "code",
   "execution_count": 56,
   "metadata": {},
   "outputs": [],
   "source": [
    "def exact_solution_log(x):\n",
    "    return 1/(1+torch.exp(-torch.Tensor(K*x)))\n",
    "\n",
    "# exact solution in NumPy: This one is needed for the loss function becasue somehow the tensor form does not work as of now.\n",
    "def exact_solution_log_np(x):\n",
    "    return 1/(1+np.exp(-K*x))\n",
    "\n",
    "def create_noisy_data(x, std_dev, noise_seed = 42):\n",
    "    exact = exact_solution_log(x)\n",
    "    torch.manual_seed(noise_seed)\n",
    "\n",
    "    return exact + torch.randn(exact.size())*std_dev \n",
    "\n",
    "def data_loss(model: PINN, data: torch.Tensor = None, x: torch.Tensor = None) -> torch.float:\n",
    "    # MSE loss \n",
    "    return (f(model, x) - data).pow(2).mean()\n",
    "\n",
    "def physics_loss(model: PINN, x: torch.Tensor = None) -> torch.float:\n",
    "    # define PDE loss\n",
    "    pde_loss_pre = df(model, x) - K*f(model, x)*(1 - f(model, x))\n",
    "    pde_loss = pde_loss_pre.pow(2).mean()\n",
    "    \n",
    "    # define conditional losses (initial + boundary)\n",
    "    boundary_loss_right_pre = (f(model, at(+1.0)) - exact_solution_log_np(+1)) \n",
    "    boundary_loss_right = boundary_loss_right_pre.pow(2).mean()\n",
    "\n",
    "    # combine all losses\n",
    "    final_loss = pde_loss + boundary_loss_right\n",
    "    \n",
    "    return final_loss\n",
    "\n",
    "\n",
    "def total_loss(model: PINN, data: torch.Tensor = None, x: torch.Tensor= None, alpha: torch.float= None) -> list:\n",
    "\n",
    "    \"\"\"adds the physics and the data loss with coefficients alpha and (1-alpha) respectively\"\"\"\n",
    "\n",
    "    loss_data = data_loss(model,data, x)\n",
    "\n",
    "    loss_physics = physics_loss(model, x)\n",
    "\n",
    "    return alpha*loss_data + (1 - alpha)*loss_physics\n",
    "\n",
    "def custom_color_normalize(value):\n",
    "    return value**80\n",
    "    \n",
    "\n",
    "def find_last_threshold_index(physics, validation, threshold = 0.0):\n",
    "    over = (validation - physics) > threshold\n",
    "    reversed_arr = np.flipud(over)\n",
    "    index = len(over) - np.where(reversed_arr == False)[0][0] - 1\n",
    "    return index\n",
    "\n",
    "def get_best_indices(physics, validation, threshold = 0.0):\n",
    "    best_indices = []\n",
    "    for i in range(len(physics)):\n",
    "        best_indices.append(find_last_threshold_index(physics[i], validation[i], threshold))\n",
    "    return best_indices"
   ]
  },
  {
   "cell_type": "code",
   "execution_count": 67,
   "metadata": {},
   "outputs": [],
   "source": [
    "settings = {}\n",
    "\n",
    "settings['n_train_points'] = 20\n",
    "settings['n_val_points'] = 39\n",
    "settings['noise_level'] = 0.0#0.1\n",
    "settings['noise_seed'] = 123\n",
    "settings['start_learning_rate'] = 0.01\n",
    "\n",
    "training_points = generate_grid((settings['n_train_points']), (-1.0,1.0))\n",
    "validation_points = generate_grid((settings['n_val_points']), (-1.0,1.0))\n",
    "\n",
    "data_noise = create_noisy_data(training_points, settings['noise_level'], noise_seed=settings['noise_seed'])"
   ]
  },
  {
   "cell_type": "code",
   "execution_count": 68,
   "metadata": {},
   "outputs": [],
   "source": [
    "def train(train_points, data):\n",
    "\n",
    "    # physics\n",
    "    #loss_fn = partial(physics_loss, x=train_points) \n",
    "             \n",
    "    # data\n",
    "    loss_fn = partial(data_loss, data=data, x=train_points)\n",
    "\n",
    "    # both\n",
    "    #loss_fn = partial(total_loss, data=data, x=train_points, alpha=0.99)\n",
    "\n",
    "    torch.manual_seed(12)\n",
    "    model = PINN(1, 3, 9, 1)\n",
    "    callbacks = [SolutionModelMonitor()]\n",
    "    \n",
    "    trained_model = train_model(\n",
    "        model = model, \n",
    "        loss_fn=loss_fn,\n",
    "        max_epochs = 10000,\n",
    "        lr_decay=1e-2,\n",
    "        optimizer_fn = partial(torch.optim.Adam, lr=settings['start_learning_rate']),\n",
    "        epoch_callbacks = callbacks\n",
    "    )\n",
    "    return callbacks"
   ]
  },
  {
   "cell_type": "code",
   "execution_count": 69,
   "metadata": {},
   "outputs": [
    {
     "name": "stdout",
     "output_type": "stream",
     "text": [
      "epoch: 1000\tlog10(loss sum): -6.3196\texecution time (past 1k epochs): 2.4520\n",
      "epoch: 2000\tlog10(loss sum): -7.0390\texecution time (past 1k epochs): 2.4018\n",
      "epoch: 3000\tlog10(loss sum): -7.1284\texecution time (past 1k epochs): 2.3223\n",
      "epoch: 4000\tlog10(loss sum): -7.2167\texecution time (past 1k epochs): 2.5175\n",
      "epoch: 5000\tlog10(loss sum): -7.2956\texecution time (past 1k epochs): 2.3606\n",
      "epoch: 6000\tlog10(loss sum): -7.3275\texecution time (past 1k epochs): 2.3371\n",
      "epoch: 7000\tlog10(loss sum): -7.3284\texecution time (past 1k epochs): 2.2102\n",
      "epoch: 8000\tlog10(loss sum): -7.3284\texecution time (past 1k epochs): 2.1480\n",
      "epoch: 9000\tlog10(loss sum): -7.3284\texecution time (past 1k epochs): 2.2335\n"
     ]
    }
   ],
   "source": [
    "callback = train(training_points, data_noise)"
   ]
  },
  {
   "cell_type": "code",
   "execution_count": 70,
   "metadata": {},
   "outputs": [],
   "source": [
    "path = create_run_folder(\"data_no_noise\")\n",
    "save_list_of_model_states(path, callback[0].model_states)"
   ]
  },
  {
   "cell_type": "code",
   "execution_count": 71,
   "metadata": {},
   "outputs": [],
   "source": [
    "plot_points = generate_grid(200, (-1.0, 1.0))\n",
    "plot_points_np = plot_points.detach().cpu().numpy()\n",
    "train_points_np = training_points.detach().cpu().numpy()\n",
    "\n",
    "def plot_function(model, idx, save_fig=False):\n",
    "    with torch.no_grad():\n",
    "        train_func_values = f(model, training_points)\n",
    "        # Evaluate the model (replace f(model, plot_points) with your specific function call)\n",
    "        function_values = f(model, plot_points)\n",
    "\n",
    "        \n",
    "        # Reshape and convert function values to NumPy array\n",
    "        #function_values_np = function_values.detach().cpu().numpy()\n",
    "\n",
    "        # Plot the function and potentially save the figure\n",
    "        plt.plot(plot_points_np, exact_solution_log_np(plot_points_np), linestyle=':', label='analytic')\n",
    "        plt.plot(plot_points_np, function_values, label='model')\n",
    "        plt.scatter(train_points_np, train_func_values, marker='.', label='train points')\n",
    "        plt.scatter(train_points_np, data_noise, marker='x', label='data')\n",
    "        plt.legend(loc='upper left')\n",
    "        plt.xlabel('$t$')\n",
    "        plt.ylabel('$u(t)$')\n",
    "        plt.ylim(-0.05, 1.05)\n",
    "        plt.title(f'Just Data (No Noise), Solution (Epoch {idx})')"
   ]
  },
  {
   "cell_type": "code",
   "execution_count": 72,
   "metadata": {},
   "outputs": [
    {
     "name": "stderr",
     "output_type": "stream",
     "text": [
      "MovieWriter ffmpeg unavailable; using Pillow instead.\n"
     ]
    },
    {
     "name": "stdout",
     "output_type": "stream",
     "text": [
      "0\n",
      "0\n",
      "100\n",
      "200\n",
      "300\n",
      "400\n",
      "500\n",
      "600\n",
      "700\n",
      "800\n",
      "900\n"
     ]
    },
    {
     "data": {
      "image/png": "[encoded data removed]",
      "text/plain": [
       "<Figure size 640x480 with 1 Axes>"
      ]
     },
     "metadata": {},
     "output_type": "display_data"
    }
   ],
   "source": [
    "\n",
    "model = PINN(1, 3, 9, 1)\n",
    "\n",
    "def update(frame):\n",
    "    plt.clf()  # clear the previous frame\n",
    "\n",
    "    if frame % 100 == 0:\n",
    "        print(frame)\n",
    "\n",
    "    model.load_state_dict(callback[0].model_states[frame*10])\n",
    "    plot_function(model, frame*10)\n",
    "\n",
    "    \n",
    "# set up the figure and axes\n",
    "fig, ax = plt.subplots()\n",
    "animation = FuncAnimation(fig, update, frames=1000, interval=10)\n",
    "\n",
    "# save the animation as a GIF using 'ffmpeg'\n",
    "animation.save('data_nonoise_solution_evolution.gif', writer='ffmpeg', fps=30)\n",
    "\n",
    "plt.show()"
   ]
  },
  {
   "cell_type": "code",
   "execution_count": null,
   "metadata": {},
   "outputs": [],
   "source": []
  }
 ],
 "metadata": {
  "kernelspec": {
   "display_name": "pinntest",
   "language": "python",
   "name": "python3"
  },
  "language_info": {
   "codemirror_mode": {
    "name": "ipython",
    "version": 3
   },
   "file_extension": ".py",
   "mimetype": "text/x-python",
   "name": "python",
   "nbconvert_exporter": "python",
   "pygments_lexer": "ipython3",
   "version": "3.12.2"
  },
  "orig_nbformat": 4
 },
 "nbformat": 4,
 "nbformat_minor": 2
}
